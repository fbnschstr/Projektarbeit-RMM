{
 "cells": [
  {
   "attachments": {},
   "cell_type": "markdown",
   "metadata": {},
   "source": [
    "# Bildcrpsprogram\n",
    "\n",
    "## Problemdarstellung\n",
    "Die Bilder aus den Mikroscopen sind sehr aufwendig zu erstellen. Für einen guten und umfangreichen Trainingsdatensatz sind jedoch sehr viele Aufnahmen erforderlich. Dazu können die großen Bilder in kleinere zerlegt werden. Hierbei ist wichtig das die Größe des Bildes in mm bekannt ist und mit den neuen Bildern abgespeichert wird.\n",
    "\n",
    "## Anforderungen \n",
    "- Ein Bild muss eingelesen werden\n",
    "- Größe dieses Bildes bestimmen\n",
    "  - Größe eines Pixels mittels dem Refenecebalkens muss bestimmt werden\n",
    "    - Entweder wird dies im vorraus bestimmt und im Dateinamen gespeichert, welcher dann einheitlich sein muss\n",
    "    - Oder inerhalb des Programmes\n",
    "    - > Es stellt sich heraus, dass der Refeencbalken immer an der Gleichen Stelle im Bild positioniert ist. Ist das Bild im Allgemeinen kleiner so ist der Balken entsprechend größer, ist das Bild größer, so ist der Balken kleiner\n",
    "- Anzahl der neuen Bilder festlegen, die erstellt werden sollen\n",
    "- Bilder in einem Zielordner abspeichern\n",
    "  - checken ob der Zielordner schon erstellt ist, ansonsten einen erstellen\n",
    "  - Pfad des Zielordners bestimmen\n"
   ]
  },
  {
   "attachments": {},
   "cell_type": "markdown",
   "metadata": {},
   "source": [
    "### Bild einlesen"
   ]
  },
  {
   "cell_type": "code",
   "execution_count": 16,
   "metadata": {},
   "outputs": [
    {
     "name": "stdout",
     "output_type": "stream",
     "text": [
      "Ordner \"/Users/fabi/Pictures/Bilder_Projektarbeit/Zugeschnitte_Bilder/\" ist vorhanden.\n",
      "Ordner \"/Users/fabi/Pictures/Bilder_Projektarbeit\" ist vorhanden.\n"
     ]
    }
   ],
   "source": [
    "from PIL import Image\n",
    "import os\n",
    "\n",
    "# Pfad zum Ordner mit den Bildern\n",
    "img_folder_path = '/Users/fabi/Pictures/Bilder_Projektarbeit'\n",
    "# Pfad zu den zugeschnittenen Bildern\n",
    "crp_img_save_path = '/Users/fabi/Pictures/Bilder_Projektarbeit/Zugeschnitte_Bilder/'\n",
    "\n",
    "# Erstelle den Ordner für die zugeschnittenen Bilder, falls noch nicht vorhanden\n",
    "if not os.path.exists(crp_img_save_path):\n",
    "    os.mkdir(crp_img_save_path)\n",
    "    print(f'Ordner \"{crp_img_save_path}\" wurde erstellt.')\n",
    "else:\n",
    "    print(f'Ordner \"{crp_img_save_path}\" ist vorhanden.')\n",
    "\n",
    "# Erstelle den Ordner für die  Bilder, falls noch nicht vorhanden\n",
    "if not os.path.exists(img_folder_path):\n",
    "    os.mkdir(img_folder_path)\n",
    "    print(f'Ordner \"{img_folder_path}\" wurde erstellt.')\n",
    "else:\n",
    "    print(f'Ordner \"{img_folder_path}\" ist vorhanden.')\n",
    "\n",
    "\n",
    "\n",
    "#Länge des Referenzebalkens\n",
    "referenzbalken_pixel = 1462  # Größe des Referenzbalkens in Pixeln\n",
    "referenzbalken_mm = 2  # Größe des Referenzbalkens in mm\n",
    "\n",
    "# Bildgröße\n",
    "crp_img_width = 500\n",
    "crp_img_height  = 500\n",
    "\n",
    "crp_size = True\n",
    "\n",
    "# Anzahl der Biilder pro Achse bestimmen bestimmen\n",
    "anzahl_bilder_x = 12\n",
    "anzahl_bilder_y = 12\n",
    "\n",
    "anzahl = False\n",
    "\n",
    "# Definieren des Schwellenwerts\n",
    "threshold_edge = 200"
   ]
  },
  {
   "attachments": {},
   "cell_type": "markdown",
   "metadata": {},
   "source": [
    "## Bilder laden und Größe bestimmen"
   ]
  },
  {
   "cell_type": "code",
   "execution_count": 17,
   "metadata": {},
   "outputs": [
    {
     "name": "stdout",
     "output_type": "stream",
     "text": [
      "Datei: Probe_006_klein.png | Breite: 13.079343365253077 mm | Höhe: 5.879616963064295 mm\n"
     ]
    }
   ],
   "source": [
    "import math\n",
    "import cv2\n",
    "import os\n",
    "import numpy as np\n",
    "\n",
    "# Durchsuche den Ordner nach Dateien\n",
    "for filename in os.listdir(img_folder_path):\n",
    "    # Überprüfen, ob die Datei eine Bilddatei ist (z. B. .jpg oder .png)\n",
    "    if filename.endswith('.jpg') or filename.endswith('.png'):\n",
    "        # Voller Pfad zur Bilddatei\n",
    "        image_path = os.path.join(img_folder_path, filename)\n",
    "        \n",
    "        # Öffne das Bild mit cv2 und konvertiere es in Graustufen\n",
    "        img = cv2.imread(image_path)\n",
    "        img = cv2.cvtColor(img, cv2.COLOR_BGR2GRAY)\n",
    "        \n",
    "        # Bestimme die Größe des Bildes in mm (Annahme: Größe des Referenzbalkens ist bekannt)\n",
    "        # Beispielhaft wird hier die Größe als (Breite, Höhe) in mm ausgegeben\n",
    "        breite_mm = img.shape[1] * referenzbalken_mm / referenzbalken_pixel\n",
    "        höhe_mm = img.shape[0] * referenzbalken_mm / referenzbalken_pixel\n",
    "        \n",
    "        # Ausgabe der Bildgröße\n",
    "        print(f\"Datei: {filename} | Breite: {breite_mm} mm | Höhe: {höhe_mm} mm\")\n",
    "\n",
    "        crp_breite = crp_img_width\n",
    "        crp_hoehe  = crp_img_height\n",
    "\n",
    "        # Anzahl der Bilder aus der Bildgröße bestimmen\n",
    "        anzahl_bilder_x = img.shape[1] // crp_img_width\n",
    "        anzahl_bilder_y = img.shape[0] // crp_img_height\n",
    "\n",
    "        # Rand berechnen der auf beiden Seiten freigehalten werden soll, damit alle Bilder mittig reinpassen\n",
    "        rand_height = (img.shape[0] % crp_img_height) // 2\n",
    "        rand_width  = (img.shape[1] % crp_img_width) // 2\n"
   ]
  },
  {
   "attachments": {},
   "cell_type": "markdown",
   "metadata": {},
   "source": [
    "## Bilder zuschneiden"
   ]
  },
  {
   "cell_type": "code",
   "execution_count": 18,
   "metadata": {},
   "outputs": [],
   "source": [
    "# Schleife für jeden Zuschneidebereich\n",
    "for x in range(anzahl_bilder_x):\n",
    "    for y in range(anzahl_bilder_y):\n",
    "        # Berechne die Koordinaten des aktuellen Zuschneidebereichs\n",
    "        crp_x = (x * int(crp_breite)) + rand_width\n",
    "        crp_y = (y * int(crp_hoehe) ) + rand_height\n",
    "        \n",
    "        # Dateiname für den zugeschnittenen Bereich\n",
    "        crp_name = f\"crp_x_{crp_x}_y_{crp_y}\" \n",
    "\n",
    "        # Schneide das Bild entsprechend dem Zuschneidebereich zu\n",
    "        crp_img = img[crp_y:crp_y+crp_hoehe, crp_x:crp_x+crp_breite]\n",
    "\n",
    "        # Mittelwerte der Außenkanten berechnen\n",
    "        mean_top = np.mean(crp_img[0, :])\n",
    "        mean_bottom = np.mean(crp_img[crp_hoehe - 1 , :])\n",
    "        mean_right = np.mean(crp_img[:, crp_img_width - 1])\n",
    "        mean_left = np.mean(crp_img[:,0])\n",
    "\n",
    "        if mean_top > threshold_edge or mean_bottom> threshold_edge or mean_right > threshold_edge or mean_left > threshold_edge:\n",
    "            # Speichere den zugeschnittenen Bereich ab, falls der Mittelwert größer als der Threshold ist\n",
    "            img_crp_save_path = crp_img_save_path + crp_name + \"threshold\" + \".png\"\n",
    "        else:\n",
    "            # Speichere den zugeschnittenen Bereich ab, falls der Mittelwert kleiner oder gleich dem Threshold ist\n",
    "            img_crp_save_path = crp_img_save_path + crp_name + \".png\"\n",
    "\n",
    "        # Speichere das zugeschnittene Bild\n",
    "        cv2.imwrite(img_crp_save_path, crp_img)\n"
   ]
  },
  {
   "attachments": {},
   "cell_type": "markdown",
   "metadata": {},
   "source": [
    "## Bestimmung der Größe des Messbalkens\n",
    "Die Bilder werden in GIMP gelanden und mit dem Messtool vermessen. Es wird geprüft ob der Maßstabsbalken immer an der selben Stelle und immer die gleiche größe hat. Somit kann die Größe eines Pixels mit der Bildgröße ermittelt werden.\n",
    "### Messergebnisse\n",
    "h = Höhe\n",
    "\n",
    "l = Länge\n",
    "\n",
    "p =  Positions des unteren linken Ecks des Messbalken\n",
    "#### Probe_006_klein.png\n",
    "h = 38\n",
    "\n",
    "l = 1462\n",
    "\n",
    "p = 9454 x 3905\n",
    "\n",
    "g = 9561 x 4298\n",
    "#### Probe_006_quadratisch.png\n",
    "h = 49\n",
    "\n",
    "l = 1462\n",
    "\n",
    "p = 7547 x 7980\n",
    "\n",
    "g = 7683 x 8485\n",
    "#### Probe_007_rechteckig.png\n",
    "h = 56\n",
    "\n",
    "l = 1462\n",
    "\n",
    "p = 13132 x 9280\n",
    "\n",
    "g = 13291 x 9867\n",
    "## Erkenntniss\n",
    "Der Maßstabsbalken ist immer 1462 Pixel lang"
   ]
  },
  {
   "attachments": {},
   "cell_type": "markdown",
   "metadata": {},
   "source": [
    "## Bilder zuschneiden\n",
    "\n",
    "Die Bilder werden zugeschnitten und durchnummeriert in einem neunen Ordner gespeichert"
   ]
  }
 ],
 "metadata": {
  "kernelspec": {
   "display_name": "Python 3",
   "language": "python",
   "name": "python3"
  },
  "language_info": {
   "codemirror_mode": {
    "name": "ipython",
    "version": 3
   },
   "file_extension": ".py",
   "mimetype": "text/x-python",
   "name": "python",
   "nbconvert_exporter": "python",
   "pygments_lexer": "ipython3",
   "version": "3.8.5"
  },
  "orig_nbformat": 4
 },
 "nbformat": 4,
 "nbformat_minor": 2
}
